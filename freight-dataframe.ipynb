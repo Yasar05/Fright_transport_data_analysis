{
 "cells": [
  {
   "cell_type": "code",
   "execution_count": 2,
   "metadata": {
    "execution": {
     "iopub.execute_input": "2021-10-11T15:33:18.725953Z",
     "iopub.status.busy": "2021-10-11T15:33:18.725187Z",
     "iopub.status.idle": "2021-10-11T15:33:20.352486Z",
     "shell.execute_reply": "2021-10-11T15:33:20.351980Z",
     "shell.execute_reply.started": "2021-10-11T14:45:09.790525Z"
    },
    "papermill": {
     "duration": 1.665799,
     "end_time": "2021-10-11T15:33:20.352669",
     "exception": false,
     "start_time": "2021-10-11T15:33:18.686870",
     "status": "completed"
    },
    "tags": []
   },
   "outputs": [],
   "source": [
    "from tqdm import tqdm\n",
    "import statsmodels.api as sm\n",
    "from statsmodels.tsa.arima.model import ARIMA\n",
    "from matplotlib import pyplot\n",
    "from pandas import DataFrame\n",
    "from statsmodels.graphics.api import qqplot\n",
    "%matplotlib inline"
   ]
  },
  {
   "cell_type": "code",
   "execution_count": 3,
   "metadata": {
    "execution": {
     "iopub.execute_input": "2021-10-11T15:33:20.427446Z",
     "iopub.status.busy": "2021-10-11T15:33:20.426780Z",
     "iopub.status.idle": "2021-10-11T15:34:14.206502Z",
     "shell.execute_reply": "2021-10-11T15:34:14.207290Z",
     "shell.execute_reply.started": "2021-10-11T13:35:08.652528Z"
    },
    "papermill": {
     "duration": 53.821338,
     "end_time": "2021-10-11T15:34:14.207852",
     "exception": false,
     "start_time": "2021-10-11T15:33:20.386514",
     "status": "completed"
    },
    "tags": []
   },
   "outputs": [],
   "source": [
    "bxl_5 = pd.read_csv(\"/belgium-obu/Bxl_5_2021.csv\")\n",
    "bxl_5.columns = ['datetime','street_id','count','vel']\n",
    "and_5 = pd.read_csv(\"/belgium-obu/Anderlecht_5_2021.csv\")\n",
    "and_5.columns = ['datetime','street_id','count','vel']\n",
    "bel_5 = pd.read_csv(\"/belgium-obu/Bel_5_2021.csv\")\n",
    "bel_5.columns = ['datetime','street_id','count','vel']\n",
    "bxl_15 = pd.read_csv(\"/belgium-obu/Bxl_15_2021.csv\")\n",
    "bxl_15.columns = ['datetime','street_id','count','vel']\n",
    "and_15 = pd.read_csv(\"/belgium-obu/Anderlecht_15_2021.csv\")\n",
    "and_15.columns = ['datetime','street_id','count','vel']\n",
    "bel_15 = pd.read_csv(\"/belgium-obu/Bel_15_2021.csv\")\n",
    "bel_15.columns = ['datetime','street_id','count','vel']\n",
    "bxl_30 = pd.read_csv(\"/belgium-obu/Bxl_30_2021.csv\")\n",
    "bxl_30.columns = ['datetime','street_id','count','vel']\n",
    "and_30 = pd.read_csv(\"/belgium-obu/Anderlecht_30_2021.csv\")\n",
    "and_30.columns = ['datetime','street_id','count','vel']\n",
    "bel_30 = pd.read_csv(\"/belgium-obu/Bel_30_2021.csv\")\n",
    "bel_30.columns = ['datetime','street_id','count','vel']"
   ]
  },
  {
   "cell_type": "code",
   "execution_count": 4,
   "metadata": {
    "execution": {
     "iopub.execute_input": "2021-10-11T15:34:14.299703Z",
     "iopub.status.busy": "2021-10-11T15:34:14.298921Z",
     "iopub.status.idle": "2021-10-11T15:34:14.623806Z",
     "shell.execute_reply": "2021-10-11T15:34:14.623157Z",
     "shell.execute_reply.started": "2021-10-11T13:36:12.641643Z"
    },
    "papermill": {
     "duration": 0.375771,
     "end_time": "2021-10-11T15:34:14.623943",
     "exception": false,
     "start_time": "2021-10-11T15:34:14.248172",
     "status": "completed"
    },
    "tags": []
   },
   "outputs": [
    {
     "data": {
      "text/html": [
       "<div>\n",
       "<style scoped>\n",
       "    .dataframe tbody tr th:only-of-type {\n",
       "        vertical-align: middle;\n",
       "    }\n",
       "\n",
       "    .dataframe tbody tr th {\n",
       "        vertical-align: top;\n",
       "    }\n",
       "\n",
       "    .dataframe thead th {\n",
       "        text-align: right;\n",
       "    }\n",
       "</style>\n",
       "<table border=\"1\" class=\"dataframe\">\n",
       "  <thead>\n",
       "    <tr style=\"text-align: right;\">\n",
       "      <th></th>\n",
       "      <th>datetime</th>\n",
       "      <th>count</th>\n",
       "      <th>vel</th>\n",
       "    </tr>\n",
       "    <tr>\n",
       "      <th>street_id</th>\n",
       "      <th></th>\n",
       "      <th></th>\n",
       "      <th></th>\n",
       "    </tr>\n",
       "  </thead>\n",
       "  <tbody>\n",
       "    <tr>\n",
       "      <th>0.000000</th>\n",
       "      <td>111</td>\n",
       "      <td>112</td>\n",
       "      <td>112</td>\n",
       "    </tr>\n",
       "    <tr>\n",
       "      <th>0.100000</th>\n",
       "      <td>0</td>\n",
       "      <td>1</td>\n",
       "      <td>1</td>\n",
       "    </tr>\n",
       "    <tr>\n",
       "      <th>0.125000</th>\n",
       "      <td>0</td>\n",
       "      <td>1</td>\n",
       "      <td>1</td>\n",
       "    </tr>\n",
       "    <tr>\n",
       "      <th>0.166667</th>\n",
       "      <td>0</td>\n",
       "      <td>1</td>\n",
       "      <td>1</td>\n",
       "    </tr>\n",
       "    <tr>\n",
       "      <th>0.200000</th>\n",
       "      <td>0</td>\n",
       "      <td>1</td>\n",
       "      <td>1</td>\n",
       "    </tr>\n",
       "    <tr>\n",
       "      <th>...</th>\n",
       "      <td>...</td>\n",
       "      <td>...</td>\n",
       "      <td>...</td>\n",
       "    </tr>\n",
       "    <tr>\n",
       "      <th>4535.000000</th>\n",
       "      <td>22</td>\n",
       "      <td>22</td>\n",
       "      <td>22</td>\n",
       "    </tr>\n",
       "    <tr>\n",
       "      <th>4536.000000</th>\n",
       "      <td>323</td>\n",
       "      <td>323</td>\n",
       "      <td>323</td>\n",
       "    </tr>\n",
       "    <tr>\n",
       "      <th>4537.000000</th>\n",
       "      <td>458</td>\n",
       "      <td>458</td>\n",
       "      <td>458</td>\n",
       "    </tr>\n",
       "    <tr>\n",
       "      <th>4538.000000</th>\n",
       "      <td>2221</td>\n",
       "      <td>2221</td>\n",
       "      <td>2221</td>\n",
       "    </tr>\n",
       "    <tr>\n",
       "      <th>4539.000000</th>\n",
       "      <td>1027</td>\n",
       "      <td>1027</td>\n",
       "      <td>1027</td>\n",
       "    </tr>\n",
       "  </tbody>\n",
       "</table>\n",
       "<p>28219 rows × 3 columns</p>\n",
       "</div>"
      ],
      "text/plain": [
       "             datetime  count   vel\n",
       "street_id                         \n",
       "0.000000          111    112   112\n",
       "0.100000            0      1     1\n",
       "0.125000            0      1     1\n",
       "0.166667            0      1     1\n",
       "0.200000            0      1     1\n",
       "...               ...    ...   ...\n",
       "4535.000000        22     22    22\n",
       "4536.000000       323    323   323\n",
       "4537.000000       458    458   458\n",
       "4538.000000      2221   2221  2221\n",
       "4539.000000      1027   1027  1027\n",
       "\n",
       "[28219 rows x 3 columns]"
      ]
     },
     "execution_count": 4,
     "metadata": {},
     "output_type": "execute_result"
    }
   ],
   "source": [
    "bxl_5.groupby(['street_id']).count()"
   ]
  },
  {
   "cell_type": "code",
   "execution_count": 5,
   "metadata": {
    "execution": {
     "iopub.execute_input": "2021-10-11T15:34:15.097157Z",
     "iopub.status.busy": "2021-10-11T15:34:15.096463Z",
     "iopub.status.idle": "2021-10-11T15:34:15.514403Z",
     "shell.execute_reply": "2021-10-11T15:34:15.514891Z",
     "shell.execute_reply.started": "2021-10-11T13:36:13.047247Z"
    },
    "papermill": {
     "duration": 0.857822,
     "end_time": "2021-10-11T15:34:15.515076",
     "exception": false,
     "start_time": "2021-10-11T15:34:14.657254",
     "status": "completed"
    },
    "tags": []
   },
   "outputs": [
    {
     "name": "stdout",
     "output_type": "stream",
     "text": [
      "bxl_5 dupplicate rows : 139\n"
     ]
    }
   ],
   "source": [
    "print('bxl_5 dupplicate rows :', bxl_5.duplicated().sum())"
   ]
  },
  {
   "cell_type": "code",
   "execution_count": 6,
   "metadata": {
    "execution": {
     "iopub.execute_input": "2021-10-11T15:34:15.595830Z",
     "iopub.status.busy": "2021-10-11T15:34:15.594659Z",
     "iopub.status.idle": "2021-10-11T15:34:15.734854Z",
     "shell.execute_reply": "2021-10-11T15:34:15.734298Z",
     "shell.execute_reply.started": "2021-10-11T13:36:13.893012Z"
    },
    "papermill": {
     "duration": 0.181886,
     "end_time": "2021-10-11T15:34:15.735025",
     "exception": false,
     "start_time": "2021-10-11T15:34:15.553139",
     "status": "completed"
    },
    "tags": []
   },
   "outputs": [
    {
     "data": {
      "text/plain": [
       "datetime     24317\n",
       "street_id        0\n",
       "count            0\n",
       "vel              0\n",
       "dtype: int64"
      ]
     },
     "execution_count": 6,
     "metadata": {},
     "output_type": "execute_result"
    }
   ],
   "source": [
    "bxl_5.isnull().sum()"
   ]
  },
  {
   "cell_type": "code",
   "execution_count": 7,
   "metadata": {
    "execution": {
     "iopub.execute_input": "2021-10-11T15:34:16.273891Z",
     "iopub.status.busy": "2021-10-11T15:34:16.271876Z",
     "iopub.status.idle": "2021-10-11T15:34:16.353619Z",
     "shell.execute_reply": "2021-10-11T15:34:16.353139Z",
     "shell.execute_reply.started": "2021-10-11T13:36:14.162651Z"
    },
    "papermill": {
     "duration": 0.578053,
     "end_time": "2021-10-11T15:34:16.353758",
     "exception": false,
     "start_time": "2021-10-11T15:34:15.775705",
     "status": "completed"
    },
    "tags": []
   },
   "outputs": [
    {
     "data": {
      "text/html": [
       "<div>\n",
       "<style scoped>\n",
       "    .dataframe tbody tr th:only-of-type {\n",
       "        vertical-align: middle;\n",
       "    }\n",
       "\n",
       "    .dataframe tbody tr th {\n",
       "        vertical-align: top;\n",
       "    }\n",
       "\n",
       "    .dataframe thead th {\n",
       "        text-align: right;\n",
       "    }\n",
       "</style>\n",
       "<table border=\"1\" class=\"dataframe\">\n",
       "  <thead>\n",
       "    <tr style=\"text-align: right;\">\n",
       "      <th></th>\n",
       "      <th>street_id</th>\n",
       "      <th>count</th>\n",
       "      <th>vel</th>\n",
       "    </tr>\n",
       "    <tr>\n",
       "      <th>datetime</th>\n",
       "      <th></th>\n",
       "      <th></th>\n",
       "      <th></th>\n",
       "    </tr>\n",
       "  </thead>\n",
       "  <tbody>\n",
       "    <tr>\n",
       "      <th>2021-06-05 23:40:00</th>\n",
       "      <td>43942.000000</td>\n",
       "      <td>18</td>\n",
       "      <td>703.000000</td>\n",
       "    </tr>\n",
       "    <tr>\n",
       "      <th>2021-06-05 23:45:00</th>\n",
       "      <td>12410.000000</td>\n",
       "      <td>9</td>\n",
       "      <td>214.000000</td>\n",
       "    </tr>\n",
       "    <tr>\n",
       "      <th>2021-06-05 23:50:00</th>\n",
       "      <td>4341.000000</td>\n",
       "      <td>2</td>\n",
       "      <td>64.000000</td>\n",
       "    </tr>\n",
       "    <tr>\n",
       "      <th>2021-06-05 23:55:00</th>\n",
       "      <td>14484.000000</td>\n",
       "      <td>9</td>\n",
       "      <td>327.000000</td>\n",
       "    </tr>\n",
       "    <tr>\n",
       "      <th>NaN</th>\n",
       "      <td>930877.333411</td>\n",
       "      <td>0</td>\n",
       "      <td>267157.367476</td>\n",
       "    </tr>\n",
       "  </tbody>\n",
       "</table>\n",
       "</div>"
      ],
      "text/plain": [
       "                         street_id  count            vel\n",
       "datetime                                                \n",
       "2021-06-05 23:40:00   43942.000000     18     703.000000\n",
       "2021-06-05 23:45:00   12410.000000      9     214.000000\n",
       "2021-06-05 23:50:00    4341.000000      2      64.000000\n",
       "2021-06-05 23:55:00   14484.000000      9     327.000000\n",
       "NaN                  930877.333411      0  267157.367476"
      ]
     },
     "execution_count": 7,
     "metadata": {},
     "output_type": "execute_result"
    }
   ],
   "source": [
    "bxl_5.groupby(['datetime'], dropna= False).sum().tail()"
   ]
  },
  {
   "cell_type": "code",
   "execution_count": 8,
   "metadata": {
    "execution": {
     "iopub.execute_input": "2021-10-11T15:34:16.427935Z",
     "iopub.status.busy": "2021-10-11T15:34:16.427260Z",
     "iopub.status.idle": "2021-10-11T15:34:16.798044Z",
     "shell.execute_reply": "2021-10-11T15:34:16.797526Z",
     "shell.execute_reply.started": "2021-10-11T13:36:14.773623Z"
    },
    "papermill": {
     "duration": 0.410092,
     "end_time": "2021-10-11T15:34:16.798195",
     "exception": false,
     "start_time": "2021-10-11T15:34:16.388103",
     "status": "completed"
    },
    "tags": []
   },
   "outputs": [
    {
     "data": {
      "text/plain": [
       "datetime     0\n",
       "street_id    0\n",
       "count        0\n",
       "vel          0\n",
       "dtype: int64"
      ]
     },
     "execution_count": 8,
     "metadata": {},
     "output_type": "execute_result"
    }
   ],
   "source": [
    "bxl_5.dropna(inplace=True)\n",
    "bxl_5.isnull().sum()"
   ]
  },
  {
   "cell_type": "code",
   "execution_count": 9,
   "metadata": {
    "execution": {
     "iopub.execute_input": "2021-10-11T15:34:16.874483Z",
     "iopub.status.busy": "2021-10-11T15:34:16.873215Z",
     "iopub.status.idle": "2021-10-11T15:34:17.083036Z",
     "shell.execute_reply": "2021-10-11T15:34:17.082157Z",
     "shell.execute_reply.started": "2021-10-11T13:36:15.420061Z"
    },
    "papermill": {
     "duration": 0.25018,
     "end_time": "2021-10-11T15:34:17.083234",
     "exception": false,
     "start_time": "2021-10-11T15:34:16.833054",
     "status": "completed"
    },
    "tags": []
   },
   "outputs": [
    {
     "name": "stdout",
     "output_type": "stream",
     "text": [
      "datetime     18227\n",
      "street_id        0\n",
      "count            0\n",
      "vel              0\n",
      "dtype: int64\n",
      "-------bxl_15 null values in percentage--------\n",
      "datetime     1.045359\n",
      "street_id    0.000000\n",
      "count        0.000000\n",
      "vel          0.000000\n",
      "dtype: float64\n"
     ]
    }
   ],
   "source": [
    "print(bxl_15.isnull().sum())\n",
    "\n",
    "print('-------bxl_15 null values in percentage--------')\n",
    "print(bxl_15.isnull().sum() * 100 / len(bxl_15))"
   ]
  },
  {
   "cell_type": "code",
   "execution_count": 10,
   "metadata": {
    "execution": {
     "iopub.execute_input": "2021-10-11T15:34:17.462591Z",
     "iopub.status.busy": "2021-10-11T15:34:17.461963Z",
     "iopub.status.idle": "2021-10-11T15:34:17.509984Z",
     "shell.execute_reply": "2021-10-11T15:34:17.509331Z",
     "shell.execute_reply.started": "2021-10-11T13:36:15.834303Z"
    },
    "papermill": {
     "duration": 0.391108,
     "end_time": "2021-10-11T15:34:17.510125",
     "exception": false,
     "start_time": "2021-10-11T15:34:17.119017",
     "status": "completed"
    },
    "tags": []
   },
   "outputs": [
    {
     "data": {
      "text/html": [
       "<div>\n",
       "<style scoped>\n",
       "    .dataframe tbody tr th:only-of-type {\n",
       "        vertical-align: middle;\n",
       "    }\n",
       "\n",
       "    .dataframe tbody tr th {\n",
       "        vertical-align: top;\n",
       "    }\n",
       "\n",
       "    .dataframe thead th {\n",
       "        text-align: right;\n",
       "    }\n",
       "</style>\n",
       "<table border=\"1\" class=\"dataframe\">\n",
       "  <thead>\n",
       "    <tr style=\"text-align: right;\">\n",
       "      <th></th>\n",
       "      <th>street_id</th>\n",
       "      <th>count</th>\n",
       "      <th>vel</th>\n",
       "    </tr>\n",
       "    <tr>\n",
       "      <th>datetime</th>\n",
       "      <th></th>\n",
       "      <th></th>\n",
       "      <th></th>\n",
       "    </tr>\n",
       "  </thead>\n",
       "  <tbody>\n",
       "    <tr>\n",
       "      <th>2021-06-05 23:00:00</th>\n",
       "      <td>62549.00000</td>\n",
       "      <td>26</td>\n",
       "      <td>911.000000</td>\n",
       "    </tr>\n",
       "    <tr>\n",
       "      <th>2021-06-05 23:15:00</th>\n",
       "      <td>35536.00000</td>\n",
       "      <td>13</td>\n",
       "      <td>351.000000</td>\n",
       "    </tr>\n",
       "    <tr>\n",
       "      <th>2021-06-05 23:30:00</th>\n",
       "      <td>82979.00000</td>\n",
       "      <td>32</td>\n",
       "      <td>1119.000000</td>\n",
       "    </tr>\n",
       "    <tr>\n",
       "      <th>2021-06-05 23:45:00</th>\n",
       "      <td>31235.00000</td>\n",
       "      <td>20</td>\n",
       "      <td>605.000000</td>\n",
       "    </tr>\n",
       "    <tr>\n",
       "      <th>NaN</th>\n",
       "      <td>742637.24368</td>\n",
       "      <td>0</td>\n",
       "      <td>216123.178839</td>\n",
       "    </tr>\n",
       "  </tbody>\n",
       "</table>\n",
       "</div>"
      ],
      "text/plain": [
       "                        street_id  count            vel\n",
       "datetime                                               \n",
       "2021-06-05 23:00:00   62549.00000     26     911.000000\n",
       "2021-06-05 23:15:00   35536.00000     13     351.000000\n",
       "2021-06-05 23:30:00   82979.00000     32    1119.000000\n",
       "2021-06-05 23:45:00   31235.00000     20     605.000000\n",
       "NaN                  742637.24368      0  216123.178839"
      ]
     },
     "execution_count": 10,
     "metadata": {},
     "output_type": "execute_result"
    }
   ],
   "source": [
    "bxl_15.groupby(['datetime'], dropna= False).sum().tail()"
   ]
  },
  {
   "cell_type": "code",
   "execution_count": 11,
   "metadata": {
    "execution": {
     "iopub.execute_input": "2021-10-11T15:34:17.591398Z",
     "iopub.status.busy": "2021-10-11T15:34:17.590543Z",
     "iopub.status.idle": "2021-10-11T15:34:17.854214Z",
     "shell.execute_reply": "2021-10-11T15:34:17.854715Z",
     "shell.execute_reply.started": "2021-10-11T13:36:16.230735Z"
    },
    "papermill": {
     "duration": 0.307551,
     "end_time": "2021-10-11T15:34:17.854889",
     "exception": false,
     "start_time": "2021-10-11T15:34:17.547338",
     "status": "completed"
    },
    "tags": []
   },
   "outputs": [
    {
     "data": {
      "text/plain": [
       "datetime     0\n",
       "street_id    0\n",
       "count        0\n",
       "vel          0\n",
       "dtype: int64"
      ]
     },
     "execution_count": 11,
     "metadata": {},
     "output_type": "execute_result"
    }
   ],
   "source": [
    "bxl_15.dropna(inplace=True)\n",
    "bxl_15.isnull().sum()"
   ]
  },
  {
   "cell_type": "code",
   "execution_count": 12,
   "metadata": {
    "execution": {
     "iopub.execute_input": "2021-10-11T15:34:17.931997Z",
     "iopub.status.busy": "2021-10-11T15:34:17.931282Z",
     "iopub.status.idle": "2021-10-11T15:34:18.089830Z",
     "shell.execute_reply": "2021-10-11T15:34:18.090629Z",
     "shell.execute_reply.started": "2021-10-11T13:36:16.707310Z"
    },
    "papermill": {
     "duration": 0.198746,
     "end_time": "2021-10-11T15:34:18.090885",
     "exception": false,
     "start_time": "2021-10-11T15:34:17.892139",
     "status": "completed"
    },
    "tags": []
   },
   "outputs": [
    {
     "name": "stdout",
     "output_type": "stream",
     "text": [
      "datetime     0\n",
      "street_id    0\n",
      "count        0\n",
      "vel          0\n",
      "dtype: int64\n",
      "-------bxl_30 null values in percentage--------\n",
      "datetime     0.0\n",
      "street_id    0.0\n",
      "count        0.0\n",
      "vel          0.0\n",
      "dtype: float64\n"
     ]
    }
   ],
   "source": [
    "print(bxl_30.isnull().sum())\n",
    "\n",
    "print('-------bxl_30 null values in percentage--------')\n",
    "print(bxl_30.isnull().sum() * 100 / len(bxl_30))"
   ]
  },
  {
   "cell_type": "code",
   "execution_count": 13,
   "metadata": {
    "execution": {
     "iopub.execute_input": "2021-10-11T15:34:18.169399Z",
     "iopub.status.busy": "2021-10-11T15:34:18.168427Z",
     "iopub.status.idle": "2021-10-11T15:34:18.269718Z",
     "shell.execute_reply": "2021-10-11T15:34:18.270169Z",
     "shell.execute_reply.started": "2021-10-11T13:36:17.042023Z"
    },
    "papermill": {
     "duration": 0.141311,
     "end_time": "2021-10-11T15:34:18.270347",
     "exception": false,
     "start_time": "2021-10-11T15:34:18.129036",
     "status": "completed"
    },
    "tags": []
   },
   "outputs": [
    {
     "name": "stdout",
     "output_type": "stream",
     "text": [
      "datetime     0\n",
      "street_id    0\n",
      "count        0\n",
      "vel          0\n",
      "dtype: int64\n",
      "-------and_5 null values in percentage--------\n",
      "datetime     0.0\n",
      "street_id    0.0\n",
      "count        0.0\n",
      "vel          0.0\n",
      "dtype: float64\n"
     ]
    }
   ],
   "source": [
    "print(and_5.isnull().sum())\n",
    "\n",
    "print('-------and_5 null values in percentage--------')\n",
    "print(and_5.isnull().sum() * 100 / len(and_5))"
   ]
  },
  {
   "cell_type": "code",
   "execution_count": 14,
   "metadata": {
    "execution": {
     "iopub.execute_input": "2021-10-11T15:34:18.345954Z",
     "iopub.status.busy": "2021-10-11T15:34:18.345315Z",
     "iopub.status.idle": "2021-10-11T15:34:18.419419Z",
     "shell.execute_reply": "2021-10-11T15:34:18.418807Z",
     "shell.execute_reply.started": "2021-10-11T13:36:17.202891Z"
    },
    "papermill": {
     "duration": 0.113291,
     "end_time": "2021-10-11T15:34:18.419573",
     "exception": false,
     "start_time": "2021-10-11T15:34:18.306282",
     "status": "completed"
    },
    "tags": []
   },
   "outputs": [
    {
     "name": "stdout",
     "output_type": "stream",
     "text": [
      "datetime     2291\n",
      "street_id       0\n",
      "count           0\n",
      "vel             0\n",
      "dtype: int64\n",
      "-------and_15 null values in percentage--------\n",
      "datetime     0.449971\n",
      "street_id    0.000000\n",
      "count        0.000000\n",
      "vel          0.000000\n",
      "dtype: float64\n"
     ]
    }
   ],
   "source": [
    "print(and_15.isnull().sum())\n",
    "\n",
    "print('-------and_15 null values in percentage--------')\n",
    "print(and_15.isnull().sum() * 100 / len(and_15))"
   ]
  },
  {
   "cell_type": "code",
   "execution_count": 15,
   "metadata": {
    "execution": {
     "iopub.execute_input": "2021-10-11T15:34:18.503847Z",
     "iopub.status.busy": "2021-10-11T15:34:18.503193Z",
     "iopub.status.idle": "2021-10-11T15:34:18.590829Z",
     "shell.execute_reply": "2021-10-11T15:34:18.590317Z",
     "shell.execute_reply.started": "2021-10-11T13:36:17.332000Z"
    },
    "papermill": {
     "duration": 0.132478,
     "end_time": "2021-10-11T15:34:18.590983",
     "exception": false,
     "start_time": "2021-10-11T15:34:18.458505",
     "status": "completed"
    },
    "tags": []
   },
   "outputs": [
    {
     "data": {
      "text/html": [
       "<div>\n",
       "<style scoped>\n",
       "    .dataframe tbody tr th:only-of-type {\n",
       "        vertical-align: middle;\n",
       "    }\n",
       "\n",
       "    .dataframe tbody tr th {\n",
       "        vertical-align: top;\n",
       "    }\n",
       "\n",
       "    .dataframe thead th {\n",
       "        text-align: right;\n",
       "    }\n",
       "</style>\n",
       "<table border=\"1\" class=\"dataframe\">\n",
       "  <thead>\n",
       "    <tr style=\"text-align: right;\">\n",
       "      <th></th>\n",
       "      <th>street_id</th>\n",
       "      <th>count</th>\n",
       "      <th>vel</th>\n",
       "    </tr>\n",
       "    <tr>\n",
       "      <th>datetime</th>\n",
       "      <th></th>\n",
       "      <th></th>\n",
       "      <th></th>\n",
       "    </tr>\n",
       "  </thead>\n",
       "  <tbody>\n",
       "    <tr>\n",
       "      <th>2021-06-05 22:45:00</th>\n",
       "      <td>8984.000000</td>\n",
       "      <td>6</td>\n",
       "      <td>437.000000</td>\n",
       "    </tr>\n",
       "    <tr>\n",
       "      <th>2021-06-05 23:00:00</th>\n",
       "      <td>28699.000000</td>\n",
       "      <td>15</td>\n",
       "      <td>695.000000</td>\n",
       "    </tr>\n",
       "    <tr>\n",
       "      <th>2021-06-05 23:15:00</th>\n",
       "      <td>1957.000000</td>\n",
       "      <td>1</td>\n",
       "      <td>0.000000</td>\n",
       "    </tr>\n",
       "    <tr>\n",
       "      <th>2021-06-05 23:30:00</th>\n",
       "      <td>7701.000000</td>\n",
       "      <td>7</td>\n",
       "      <td>518.000000</td>\n",
       "    </tr>\n",
       "    <tr>\n",
       "      <th>NaN</th>\n",
       "      <td>129416.501111</td>\n",
       "      <td>0</td>\n",
       "      <td>10882.164106</td>\n",
       "    </tr>\n",
       "  </tbody>\n",
       "</table>\n",
       "</div>"
      ],
      "text/plain": [
       "                         street_id  count           vel\n",
       "datetime                                               \n",
       "2021-06-05 22:45:00    8984.000000      6    437.000000\n",
       "2021-06-05 23:00:00   28699.000000     15    695.000000\n",
       "2021-06-05 23:15:00    1957.000000      1      0.000000\n",
       "2021-06-05 23:30:00    7701.000000      7    518.000000\n",
       "NaN                  129416.501111      0  10882.164106"
      ]
     },
     "execution_count": 15,
     "metadata": {},
     "output_type": "execute_result"
    }
   ],
   "source": [
    "and_15.groupby(['datetime'], dropna= False).sum().tail()"
   ]
  },
  {
   "cell_type": "code",
   "execution_count": 16,
   "metadata": {
    "execution": {
     "iopub.execute_input": "2021-10-11T15:34:18.669962Z",
     "iopub.status.busy": "2021-10-11T15:34:18.669083Z",
     "iopub.status.idle": "2021-10-11T15:34:18.749009Z",
     "shell.execute_reply": "2021-10-11T15:34:18.748459Z",
     "shell.execute_reply.started": "2021-10-11T13:36:17.448843Z"
    },
    "papermill": {
     "duration": 0.121657,
     "end_time": "2021-10-11T15:34:18.749149",
     "exception": false,
     "start_time": "2021-10-11T15:34:18.627492",
     "status": "completed"
    },
    "tags": []
   },
   "outputs": [
    {
     "data": {
      "text/plain": [
       "datetime     0\n",
       "street_id    0\n",
       "count        0\n",
       "vel          0\n",
       "dtype: int64"
      ]
     },
     "execution_count": 16,
     "metadata": {},
     "output_type": "execute_result"
    }
   ],
   "source": [
    "and_15.dropna(inplace=True)\n",
    "and_15.isnull().sum()"
   ]
  },
  {
   "cell_type": "code",
   "execution_count": 17,
   "metadata": {
    "execution": {
     "iopub.execute_input": "2021-10-11T15:34:18.828574Z",
     "iopub.status.busy": "2021-10-11T15:34:18.827984Z",
     "iopub.status.idle": "2021-10-11T15:34:18.881720Z",
     "shell.execute_reply": "2021-10-11T15:34:18.882218Z",
     "shell.execute_reply.started": "2021-10-11T13:36:17.594740Z"
    },
    "papermill": {
     "duration": 0.09573,
     "end_time": "2021-10-11T15:34:18.882378",
     "exception": false,
     "start_time": "2021-10-11T15:34:18.786648",
     "status": "completed"
    },
    "tags": []
   },
   "outputs": [
    {
     "name": "stdout",
     "output_type": "stream",
     "text": [
      "datetime     5209\n",
      "street_id       0\n",
      "count           0\n",
      "vel             0\n",
      "dtype: int64\n",
      "-------and_30 null values in percentage--------\n",
      "datetime     1.204647\n",
      "street_id    0.000000\n",
      "count        0.000000\n",
      "vel          0.000000\n",
      "dtype: float64\n"
     ]
    }
   ],
   "source": [
    "print(and_30.isnull().sum())\n",
    "\n",
    "print('-------and_30 null values in percentage--------')\n",
    "print(and_30.isnull().sum() * 100 / len(and_30))"
   ]
  },
  {
   "cell_type": "code",
   "execution_count": 18,
   "metadata": {
    "execution": {
     "iopub.execute_input": "2021-10-11T15:34:18.959924Z",
     "iopub.status.busy": "2021-10-11T15:34:18.959282Z",
     "iopub.status.idle": "2021-10-11T15:34:19.030143Z",
     "shell.execute_reply": "2021-10-11T15:34:19.030659Z",
     "shell.execute_reply.started": "2021-10-11T13:36:17.703734Z"
    },
    "papermill": {
     "duration": 0.111639,
     "end_time": "2021-10-11T15:34:19.030850",
     "exception": false,
     "start_time": "2021-10-11T15:34:18.919211",
     "status": "completed"
    },
    "tags": []
   },
   "outputs": [
    {
     "data": {
      "text/html": [
       "<div>\n",
       "<style scoped>\n",
       "    .dataframe tbody tr th:only-of-type {\n",
       "        vertical-align: middle;\n",
       "    }\n",
       "\n",
       "    .dataframe tbody tr th {\n",
       "        vertical-align: top;\n",
       "    }\n",
       "\n",
       "    .dataframe thead th {\n",
       "        text-align: right;\n",
       "    }\n",
       "</style>\n",
       "<table border=\"1\" class=\"dataframe\">\n",
       "  <thead>\n",
       "    <tr style=\"text-align: right;\">\n",
       "      <th></th>\n",
       "      <th>street_id</th>\n",
       "      <th>count</th>\n",
       "      <th>vel</th>\n",
       "    </tr>\n",
       "    <tr>\n",
       "      <th>datetime</th>\n",
       "      <th></th>\n",
       "      <th></th>\n",
       "      <th></th>\n",
       "    </tr>\n",
       "  </thead>\n",
       "  <tbody>\n",
       "    <tr>\n",
       "      <th>2021-06-05 22:00:00</th>\n",
       "      <td>6253.000000</td>\n",
       "      <td>6</td>\n",
       "      <td>440.000000</td>\n",
       "    </tr>\n",
       "    <tr>\n",
       "      <th>2021-06-05 22:30:00</th>\n",
       "      <td>12536.000000</td>\n",
       "      <td>10</td>\n",
       "      <td>677.500000</td>\n",
       "    </tr>\n",
       "    <tr>\n",
       "      <th>2021-06-05 23:00:00</th>\n",
       "      <td>30656.000000</td>\n",
       "      <td>16</td>\n",
       "      <td>695.000000</td>\n",
       "    </tr>\n",
       "    <tr>\n",
       "      <th>2021-06-05 23:30:00</th>\n",
       "      <td>7701.000000</td>\n",
       "      <td>7</td>\n",
       "      <td>518.000000</td>\n",
       "    </tr>\n",
       "    <tr>\n",
       "      <th>NaN</th>\n",
       "      <td>272944.496004</td>\n",
       "      <td>0</td>\n",
       "      <td>37649.258963</td>\n",
       "    </tr>\n",
       "  </tbody>\n",
       "</table>\n",
       "</div>"
      ],
      "text/plain": [
       "                         street_id  count           vel\n",
       "datetime                                               \n",
       "2021-06-05 22:00:00    6253.000000      6    440.000000\n",
       "2021-06-05 22:30:00   12536.000000     10    677.500000\n",
       "2021-06-05 23:00:00   30656.000000     16    695.000000\n",
       "2021-06-05 23:30:00    7701.000000      7    518.000000\n",
       "NaN                  272944.496004      0  37649.258963"
      ]
     },
     "execution_count": 18,
     "metadata": {},
     "output_type": "execute_result"
    }
   ],
   "source": [
    "and_30.groupby(['datetime'], dropna= False).sum().tail()"
   ]
  },
  {
   "cell_type": "code",
   "execution_count": 19,
   "metadata": {
    "execution": {
     "iopub.execute_input": "2021-10-11T15:34:19.113711Z",
     "iopub.status.busy": "2021-10-11T15:34:19.113075Z",
     "iopub.status.idle": "2021-10-11T15:34:19.184614Z",
     "shell.execute_reply": "2021-10-11T15:34:19.185042Z",
     "shell.execute_reply.started": "2021-10-11T13:36:17.794752Z"
    },
    "papermill": {
     "duration": 0.114861,
     "end_time": "2021-10-11T15:34:19.185219",
     "exception": false,
     "start_time": "2021-10-11T15:34:19.070358",
     "status": "completed"
    },
    "tags": []
   },
   "outputs": [
    {
     "data": {
      "text/plain": [
       "datetime     0\n",
       "street_id    0\n",
       "count        0\n",
       "vel          0\n",
       "dtype: int64"
      ]
     },
     "execution_count": 19,
     "metadata": {},
     "output_type": "execute_result"
    }
   ],
   "source": [
    "and_30.dropna(inplace=True)\n",
    "and_30.isnull().sum()"
   ]
  },
  {
   "cell_type": "code",
   "execution_count": 20,
   "metadata": {
    "execution": {
     "iopub.execute_input": "2021-10-11T15:34:19.272925Z",
     "iopub.status.busy": "2021-10-11T15:34:19.272029Z",
     "iopub.status.idle": "2021-10-11T15:34:22.655499Z",
     "shell.execute_reply": "2021-10-11T15:34:22.655965Z",
     "shell.execute_reply.started": "2021-10-11T13:36:17.922890Z"
    },
    "papermill": {
     "duration": 3.42919,
     "end_time": "2021-10-11T15:34:22.656138",
     "exception": false,
     "start_time": "2021-10-11T15:34:19.226948",
     "status": "completed"
    },
    "tags": []
   },
   "outputs": [
    {
     "name": "stdout",
     "output_type": "stream",
     "text": [
      "datetime     569479\n",
      "street_id         0\n",
      "count             0\n",
      "vel               0\n",
      "dtype: int64\n",
      "-------bel_5 null values in percentage--------\n",
      "datetime     2.112654\n",
      "street_id    0.000000\n",
      "count        0.000000\n",
      "vel          0.000000\n",
      "dtype: float64\n"
     ]
    }
   ],
   "source": [
    "print(bel_5.isnull().sum())\n",
    "\n",
    "print('-------bel_5 null values in percentage--------')\n",
    "print(bel_5.isnull().sum() * 100 / len(bel_5))"
   ]
  },
  {
   "cell_type": "code",
   "execution_count": 21,
   "metadata": {
    "execution": {
     "iopub.execute_input": "2021-10-11T15:34:22.894580Z",
     "iopub.status.busy": "2021-10-11T15:34:22.735256Z",
     "iopub.status.idle": "2021-10-11T15:34:30.650859Z",
     "shell.execute_reply": "2021-10-11T15:34:30.650333Z",
     "shell.execute_reply.started": "2021-10-11T13:36:24.284441Z"
    },
    "papermill": {
     "duration": 7.956886,
     "end_time": "2021-10-11T15:34:30.651006",
     "exception": false,
     "start_time": "2021-10-11T15:34:22.694120",
     "status": "completed"
    },
    "tags": []
   },
   "outputs": [
    {
     "data": {
      "text/html": [
       "<div>\n",
       "<style scoped>\n",
       "    .dataframe tbody tr th:only-of-type {\n",
       "        vertical-align: middle;\n",
       "    }\n",
       "\n",
       "    .dataframe tbody tr th {\n",
       "        vertical-align: top;\n",
       "    }\n",
       "\n",
       "    .dataframe thead th {\n",
       "        text-align: right;\n",
       "    }\n",
       "</style>\n",
       "<table border=\"1\" class=\"dataframe\">\n",
       "  <thead>\n",
       "    <tr style=\"text-align: right;\">\n",
       "      <th></th>\n",
       "      <th>street_id</th>\n",
       "      <th>count</th>\n",
       "      <th>vel</th>\n",
       "    </tr>\n",
       "    <tr>\n",
       "      <th>datetime</th>\n",
       "      <th></th>\n",
       "      <th></th>\n",
       "      <th></th>\n",
       "    </tr>\n",
       "  </thead>\n",
       "  <tbody>\n",
       "    <tr>\n",
       "      <th>2021-06-05 23:40:00</th>\n",
       "      <td>4.786600e+05</td>\n",
       "      <td>211</td>\n",
       "      <td>1.440222e+04</td>\n",
       "    </tr>\n",
       "    <tr>\n",
       "      <th>2021-06-05 23:45:00</th>\n",
       "      <td>4.755670e+05</td>\n",
       "      <td>196</td>\n",
       "      <td>1.430129e+04</td>\n",
       "    </tr>\n",
       "    <tr>\n",
       "      <th>2021-06-05 23:50:00</th>\n",
       "      <td>4.601320e+05</td>\n",
       "      <td>206</td>\n",
       "      <td>1.411503e+04</td>\n",
       "    </tr>\n",
       "    <tr>\n",
       "      <th>2021-06-05 23:55:00</th>\n",
       "      <td>4.657990e+05</td>\n",
       "      <td>196</td>\n",
       "      <td>1.411975e+04</td>\n",
       "    </tr>\n",
       "    <tr>\n",
       "      <th>NaN</th>\n",
       "      <td>3.989276e+07</td>\n",
       "      <td>0</td>\n",
       "      <td>2.717938e+07</td>\n",
       "    </tr>\n",
       "  </tbody>\n",
       "</table>\n",
       "</div>"
      ],
      "text/plain": [
       "                        street_id  count           vel\n",
       "datetime                                              \n",
       "2021-06-05 23:40:00  4.786600e+05    211  1.440222e+04\n",
       "2021-06-05 23:45:00  4.755670e+05    196  1.430129e+04\n",
       "2021-06-05 23:50:00  4.601320e+05    206  1.411503e+04\n",
       "2021-06-05 23:55:00  4.657990e+05    196  1.411975e+04\n",
       "NaN                  3.989276e+07      0  2.717938e+07"
      ]
     },
     "execution_count": 21,
     "metadata": {},
     "output_type": "execute_result"
    }
   ],
   "source": [
    "bel_5.groupby(['datetime'], dropna= False).sum().tail()"
   ]
  },
  {
   "cell_type": "code",
   "execution_count": 22,
   "metadata": {
    "execution": {
     "iopub.execute_input": "2021-10-11T15:34:30.735121Z",
     "iopub.status.busy": "2021-10-11T15:34:30.733680Z",
     "iopub.status.idle": "2021-10-11T15:34:35.679306Z",
     "shell.execute_reply": "2021-10-11T15:34:35.678772Z",
     "shell.execute_reply.started": "2021-10-11T13:36:32.521402Z"
    },
    "papermill": {
     "duration": 4.98934,
     "end_time": "2021-10-11T15:34:35.679447",
     "exception": false,
     "start_time": "2021-10-11T15:34:30.690107",
     "status": "completed"
    },
    "tags": []
   },
   "outputs": [
    {
     "data": {
      "text/plain": [
       "datetime     0\n",
       "street_id    0\n",
       "count        0\n",
       "vel          0\n",
       "dtype: int64"
      ]
     },
     "execution_count": 22,
     "metadata": {},
     "output_type": "execute_result"
    }
   ],
   "source": [
    "bel_5.dropna(inplace=True)\n",
    "bel_5.isnull().sum()"
   ]
  },
  {
   "cell_type": "code",
   "execution_count": 23,
   "metadata": {
    "execution": {
     "iopub.execute_input": "2021-10-11T15:34:35.763030Z",
     "iopub.status.busy": "2021-10-11T15:34:35.762381Z",
     "iopub.status.idle": "2021-10-11T15:34:37.381749Z",
     "shell.execute_reply": "2021-10-11T15:34:37.381259Z",
     "shell.execute_reply.started": "2021-10-11T13:36:40.600998Z"
    },
    "papermill": {
     "duration": 1.663132,
     "end_time": "2021-10-11T15:34:37.381892",
     "exception": false,
     "start_time": "2021-10-11T15:34:35.718760",
     "status": "completed"
    },
    "tags": []
   },
   "outputs": [
    {
     "name": "stdout",
     "output_type": "stream",
     "text": [
      "datetime     390526\n",
      "street_id         0\n",
      "count             0\n",
      "vel               0\n",
      "dtype: int64\n",
      "-------bel_15 null values in percentage--------\n",
      "datetime     2.66449\n",
      "street_id    0.00000\n",
      "count        0.00000\n",
      "vel          0.00000\n",
      "dtype: float64\n"
     ]
    }
   ],
   "source": [
    "print(bel_15.isnull().sum())\n",
    "\n",
    "print('-------bel_15 null values in percentage--------')\n",
    "print(bel_15.isnull().sum() * 100 / len(bel_15))"
   ]
  },
  {
   "cell_type": "code",
   "execution_count": 24,
   "metadata": {
    "execution": {
     "iopub.execute_input": "2021-10-11T15:34:37.555661Z",
     "iopub.status.busy": "2021-10-11T15:34:37.555019Z",
     "iopub.status.idle": "2021-10-11T15:34:40.165446Z",
     "shell.execute_reply": "2021-10-11T15:34:40.165979Z",
     "shell.execute_reply.started": "2021-10-11T13:36:43.907879Z"
    },
    "papermill": {
     "duration": 2.742838,
     "end_time": "2021-10-11T15:34:40.166163",
     "exception": false,
     "start_time": "2021-10-11T15:34:37.423325",
     "status": "completed"
    },
    "tags": []
   },
   "outputs": [
    {
     "data": {
      "text/html": [
       "<div>\n",
       "<style scoped>\n",
       "    .dataframe tbody tr th:only-of-type {\n",
       "        vertical-align: middle;\n",
       "    }\n",
       "\n",
       "    .dataframe tbody tr th {\n",
       "        vertical-align: top;\n",
       "    }\n",
       "\n",
       "    .dataframe thead th {\n",
       "        text-align: right;\n",
       "    }\n",
       "</style>\n",
       "<table border=\"1\" class=\"dataframe\">\n",
       "  <thead>\n",
       "    <tr style=\"text-align: right;\">\n",
       "      <th></th>\n",
       "      <th>street_id</th>\n",
       "      <th>count</th>\n",
       "      <th>vel</th>\n",
       "    </tr>\n",
       "    <tr>\n",
       "      <th>datetime</th>\n",
       "      <th></th>\n",
       "      <th></th>\n",
       "      <th></th>\n",
       "    </tr>\n",
       "  </thead>\n",
       "  <tbody>\n",
       "    <tr>\n",
       "      <th>2021-06-05 23:00:00</th>\n",
       "      <td>1.197240e+06</td>\n",
       "      <td>641</td>\n",
       "      <td>3.559611e+04</td>\n",
       "    </tr>\n",
       "    <tr>\n",
       "      <th>2021-06-05 23:15:00</th>\n",
       "      <td>1.209896e+06</td>\n",
       "      <td>672</td>\n",
       "      <td>3.672040e+04</td>\n",
       "    </tr>\n",
       "    <tr>\n",
       "      <th>2021-06-05 23:30:00</th>\n",
       "      <td>1.207178e+06</td>\n",
       "      <td>645</td>\n",
       "      <td>3.664560e+04</td>\n",
       "    </tr>\n",
       "    <tr>\n",
       "      <th>2021-06-05 23:45:00</th>\n",
       "      <td>1.098545e+06</td>\n",
       "      <td>563</td>\n",
       "      <td>3.318505e+04</td>\n",
       "    </tr>\n",
       "    <tr>\n",
       "      <th>NaN</th>\n",
       "      <td>2.873477e+07</td>\n",
       "      <td>0</td>\n",
       "      <td>2.050454e+07</td>\n",
       "    </tr>\n",
       "  </tbody>\n",
       "</table>\n",
       "</div>"
      ],
      "text/plain": [
       "                        street_id  count           vel\n",
       "datetime                                              \n",
       "2021-06-05 23:00:00  1.197240e+06    641  3.559611e+04\n",
       "2021-06-05 23:15:00  1.209896e+06    672  3.672040e+04\n",
       "2021-06-05 23:30:00  1.207178e+06    645  3.664560e+04\n",
       "2021-06-05 23:45:00  1.098545e+06    563  3.318505e+04\n",
       "NaN                  2.873477e+07      0  2.050454e+07"
      ]
     },
     "execution_count": 24,
     "metadata": {},
     "output_type": "execute_result"
    }
   ],
   "source": [
    "bel_15.groupby(['datetime'], dropna= False).sum().tail()"
   ]
  },
  {
   "cell_type": "code",
   "execution_count": 25,
   "metadata": {
    "execution": {
     "iopub.execute_input": "2021-10-11T15:34:40.254904Z",
     "iopub.status.busy": "2021-10-11T15:34:40.254170Z",
     "iopub.status.idle": "2021-10-11T15:34:42.606101Z",
     "shell.execute_reply": "2021-10-11T15:34:42.606515Z",
     "shell.execute_reply.started": "2021-10-11T13:36:46.837438Z"
    },
    "papermill": {
     "duration": 2.397693,
     "end_time": "2021-10-11T15:34:42.606707",
     "exception": false,
     "start_time": "2021-10-11T15:34:40.209014",
     "status": "completed"
    },
    "tags": []
   },
   "outputs": [
    {
     "data": {
      "text/plain": [
       "datetime     0\n",
       "street_id    0\n",
       "count        0\n",
       "vel          0\n",
       "dtype: int64"
      ]
     },
     "execution_count": 25,
     "metadata": {},
     "output_type": "execute_result"
    }
   ],
   "source": [
    "bel_15.dropna(inplace=True)\n",
    "bel_15.isnull().sum()"
   ]
  },
  {
   "cell_type": "code",
   "execution_count": 26,
   "metadata": {
    "execution": {
     "iopub.execute_input": "2021-10-11T15:34:42.693492Z",
     "iopub.status.busy": "2021-10-11T15:34:42.692896Z",
     "iopub.status.idle": "2021-10-11T15:34:43.658689Z",
     "shell.execute_reply": "2021-10-11T15:34:43.658099Z",
     "shell.execute_reply.started": "2021-10-11T13:36:51.193222Z"
    },
    "papermill": {
     "duration": 1.010485,
     "end_time": "2021-10-11T15:34:43.658822",
     "exception": false,
     "start_time": "2021-10-11T15:34:42.648337",
     "status": "completed"
    },
    "tags": []
   },
   "outputs": [
    {
     "name": "stdout",
     "output_type": "stream",
     "text": [
      "datetime     0\n",
      "street_id    0\n",
      "count        0\n",
      "vel          0\n",
      "dtype: int64\n",
      "-------bel_30 null values in percentage--------\n",
      "datetime     0.0\n",
      "street_id    0.0\n",
      "count        0.0\n",
      "vel          0.0\n",
      "dtype: float64\n"
     ]
    }
   ],
   "source": [
    "print(bel_30.isnull().sum())\n",
    "\n",
    "print('-------bel_30 null values in percentage--------')\n",
    "print(bel_30.isnull().sum() * 100 / len(bel_30))"
   ]
  },
  {
   "cell_type": "code",
   "execution_count": 27,
   "metadata": {
    "execution": {
     "iopub.execute_input": "2021-10-11T15:34:43.744192Z",
     "iopub.status.busy": "2021-10-11T15:34:43.742892Z",
     "iopub.status.idle": "2021-10-11T15:34:43.756065Z",
     "shell.execute_reply": "2021-10-11T15:34:43.756460Z",
     "shell.execute_reply.started": "2021-10-11T13:36:53.278323Z"
    },
    "papermill": {
     "duration": 0.057511,
     "end_time": "2021-10-11T15:34:43.756637",
     "exception": false,
     "start_time": "2021-10-11T15:34:43.699126",
     "status": "completed"
    },
    "tags": []
   },
   "outputs": [
    {
     "data": {
      "text/html": [
       "<div>\n",
       "<style scoped>\n",
       "    .dataframe tbody tr th:only-of-type {\n",
       "        vertical-align: middle;\n",
       "    }\n",
       "\n",
       "    .dataframe tbody tr th {\n",
       "        vertical-align: top;\n",
       "    }\n",
       "\n",
       "    .dataframe thead th {\n",
       "        text-align: right;\n",
       "    }\n",
       "</style>\n",
       "<table border=\"1\" class=\"dataframe\">\n",
       "  <thead>\n",
       "    <tr style=\"text-align: right;\">\n",
       "      <th></th>\n",
       "      <th>datetime</th>\n",
       "      <th>street_id</th>\n",
       "      <th>count</th>\n",
       "      <th>vel</th>\n",
       "      <th>OBU</th>\n",
       "    </tr>\n",
       "  </thead>\n",
       "  <tbody>\n",
       "    <tr>\n",
       "      <th>0</th>\n",
       "      <td>2021-05-28 13:50:00</td>\n",
       "      <td>2741.0</td>\n",
       "      <td>1</td>\n",
       "      <td>0.000000</td>\n",
       "      <td>5</td>\n",
       "    </tr>\n",
       "    <tr>\n",
       "      <th>1</th>\n",
       "      <td>2021-05-04 11:50:00</td>\n",
       "      <td>415.0</td>\n",
       "      <td>2</td>\n",
       "      <td>26.500000</td>\n",
       "      <td>5</td>\n",
       "    </tr>\n",
       "    <tr>\n",
       "      <th>2</th>\n",
       "      <td>2021-05-21 07:30:00</td>\n",
       "      <td>2954.0</td>\n",
       "      <td>7</td>\n",
       "      <td>27.285714</td>\n",
       "      <td>5</td>\n",
       "    </tr>\n",
       "    <tr>\n",
       "      <th>3</th>\n",
       "      <td>2021-05-21 09:45:00</td>\n",
       "      <td>1315.0</td>\n",
       "      <td>1</td>\n",
       "      <td>46.000000</td>\n",
       "      <td>5</td>\n",
       "    </tr>\n",
       "    <tr>\n",
       "      <th>4</th>\n",
       "      <td>2021-04-18 04:25:00</td>\n",
       "      <td>8.0</td>\n",
       "      <td>1</td>\n",
       "      <td>46.000000</td>\n",
       "      <td>5</td>\n",
       "    </tr>\n",
       "  </tbody>\n",
       "</table>\n",
       "</div>"
      ],
      "text/plain": [
       "              datetime  street_id  count        vel  OBU\n",
       "0  2021-05-28 13:50:00     2741.0      1   0.000000    5\n",
       "1  2021-05-04 11:50:00      415.0      2  26.500000    5\n",
       "2  2021-05-21 07:30:00     2954.0      7  27.285714    5\n",
       "3  2021-05-21 09:45:00     1315.0      1  46.000000    5\n",
       "4  2021-04-18 04:25:00        8.0      1  46.000000    5"
      ]
     },
     "execution_count": 27,
     "metadata": {},
     "output_type": "execute_result"
    }
   ],
   "source": [
    "bxl_5['OBU']= 5\n",
    "bxl_5.head()"
   ]
  },
  {
   "cell_type": "code",
   "execution_count": 28,
   "metadata": {
    "execution": {
     "iopub.execute_input": "2021-10-11T15:34:43.843019Z",
     "iopub.status.busy": "2021-10-11T15:34:43.841928Z",
     "iopub.status.idle": "2021-10-11T15:34:43.849778Z",
     "shell.execute_reply": "2021-10-11T15:34:43.850186Z",
     "shell.execute_reply.started": "2021-10-11T13:36:53.296903Z"
    },
    "papermill": {
     "duration": 0.052936,
     "end_time": "2021-10-11T15:34:43.850355",
     "exception": false,
     "start_time": "2021-10-11T15:34:43.797419",
     "status": "completed"
    },
    "tags": []
   },
   "outputs": [],
   "source": [
    "bxl_15['OBU']= 15\n",
    "bxl_30['OBU']= 30\n"
   ]
  },
  {
   "cell_type": "code",
   "execution_count": 29,
   "metadata": {
    "execution": {
     "iopub.execute_input": "2021-10-11T15:34:43.936949Z",
     "iopub.status.busy": "2021-10-11T15:34:43.936182Z",
     "iopub.status.idle": "2021-10-11T15:34:44.044058Z",
     "shell.execute_reply": "2021-10-11T15:34:44.043446Z",
     "shell.execute_reply.started": "2021-10-11T13:36:53.307078Z"
    },
    "papermill": {
     "duration": 0.15344,
     "end_time": "2021-10-11T15:34:44.044213",
     "exception": false,
     "start_time": "2021-10-11T15:34:43.890773",
     "status": "completed"
    },
    "tags": []
   },
   "outputs": [],
   "source": [
    "and_5['OBU']= 5\n",
    "and_15['OBU']= 15\n",
    "and_30['OBU']= 30\n",
    "bel_5['OBU']= 5\n",
    "bel_15['OBU']= 15\n",
    "bel_30['OBU']= 30\n"
   ]
  },
  {
   "cell_type": "code",
   "execution_count": null,
   "metadata": {
    "papermill": {
     "duration": 0.041109,
     "end_time": "2021-10-11T15:34:44.127666",
     "exception": false,
     "start_time": "2021-10-11T15:34:44.086557",
     "status": "completed"
    },
    "tags": []
   },
   "outputs": [],
   "source": []
  },
  {
   "cell_type": "code",
   "execution_count": 30,
   "metadata": {
    "execution": {
     "iopub.execute_input": "2021-10-11T15:34:44.212264Z",
     "iopub.status.busy": "2021-10-11T15:34:44.211682Z",
     "iopub.status.idle": "2021-10-11T15:34:44.713383Z",
     "shell.execute_reply": "2021-10-11T15:34:44.714201Z",
     "shell.execute_reply.started": "2021-10-11T13:36:53.499963Z"
    },
    "papermill": {
     "duration": 0.546054,
     "end_time": "2021-10-11T15:34:44.714427",
     "exception": false,
     "start_time": "2021-10-11T15:34:44.168373",
     "status": "completed"
    },
    "tags": []
   },
   "outputs": [
    {
     "name": "stderr",
     "output_type": "stream",
     "text": [
      "/opt/conda/lib/python3.7/site-packages/ipykernel_launcher.py:2: FutureWarning: null_counts is deprecated. Use show_counts instead\n",
      "  \n"
     ]
    },
    {
     "name": "stdout",
     "output_type": "stream",
     "text": [
      "<class 'pandas.core.frame.DataFrame'>\n",
      "Int64Index: 5303354 entries, 0 to 1421463\n",
      "Data columns (total 5 columns):\n",
      " #   Column     Non-Null Count    Dtype  \n",
      "---  ------     --------------    -----  \n",
      " 0   datetime   5303354 non-null  object \n",
      " 1   street_id  5303354 non-null  float64\n",
      " 2   count      5303354 non-null  int64  \n",
      " 3   vel        5303354 non-null  float64\n",
      " 4   OBU        5303354 non-null  int64  \n",
      "dtypes: float64(2), int64(2), object(1)\n",
      "memory usage: 242.8+ MB\n"
     ]
    }
   ],
   "source": [
    "df_bxl = pd.concat([bxl_5, bxl_15, bxl_30], axis=0)\n",
    "df_bxl.info(null_counts=True)"
   ]
  },
  {
   "cell_type": "code",
   "execution_count": 31,
   "metadata": {
    "execution": {
     "iopub.execute_input": "2021-10-11T15:34:44.805909Z",
     "iopub.status.busy": "2021-10-11T15:34:44.805282Z",
     "iopub.status.idle": "2021-10-11T15:34:44.946890Z",
     "shell.execute_reply": "2021-10-11T15:34:44.947352Z",
     "shell.execute_reply.started": "2021-10-11T13:36:54.668407Z"
    },
    "papermill": {
     "duration": 0.189228,
     "end_time": "2021-10-11T15:34:44.947531",
     "exception": false,
     "start_time": "2021-10-11T15:34:44.758303",
     "status": "completed"
    },
    "tags": []
   },
   "outputs": [
    {
     "name": "stdout",
     "output_type": "stream",
     "text": [
      "<class 'pandas.core.frame.DataFrame'>\n",
      "Int64Index: 1558237 entries, 0 to 432408\n",
      "Data columns (total 5 columns):\n",
      " #   Column     Non-Null Count    Dtype  \n",
      "---  ------     --------------    -----  \n",
      " 0   datetime   1558237 non-null  object \n",
      " 1   street_id  1558237 non-null  float64\n",
      " 2   count      1558237 non-null  int64  \n",
      " 3   vel        1558237 non-null  float64\n",
      " 4   OBU        1558237 non-null  int64  \n",
      "dtypes: float64(2), int64(2), object(1)\n",
      "memory usage: 71.3+ MB\n"
     ]
    }
   ],
   "source": [
    "df_and=pd.concat([and_5, and_15, and_30], axis = 0)\n",
    "df_and.info()"
   ]
  },
  {
   "cell_type": "code",
   "execution_count": 32,
   "metadata": {
    "execution": {
     "iopub.execute_input": "2021-10-11T15:34:45.038450Z",
     "iopub.status.busy": "2021-10-11T15:34:45.037837Z",
     "iopub.status.idle": "2021-10-11T15:34:49.917545Z",
     "shell.execute_reply": "2021-10-11T15:34:49.918383Z",
     "shell.execute_reply.started": "2021-10-11T13:36:54.981743Z"
    },
    "papermill": {
     "duration": 4.928155,
     "end_time": "2021-10-11T15:34:49.918618",
     "exception": false,
     "start_time": "2021-10-11T15:34:44.990463",
     "status": "completed"
    },
    "tags": []
   },
   "outputs": [
    {
     "name": "stderr",
     "output_type": "stream",
     "text": [
      "/opt/conda/lib/python3.7/site-packages/ipykernel_launcher.py:2: FutureWarning: null_counts is deprecated. Use show_counts instead\n",
      "  \n"
     ]
    },
    {
     "name": "stdout",
     "output_type": "stream",
     "text": [
      "<class 'pandas.core.frame.DataFrame'>\n",
      "Int64Index: 42808812 entries, 0 to 2180822\n",
      "Data columns (total 5 columns):\n",
      " #   Column     Non-Null Count     Dtype  \n",
      "---  ------     --------------     -----  \n",
      " 0   datetime   42808812 non-null  object \n",
      " 1   street_id  42808812 non-null  float64\n",
      " 2   count      42808812 non-null  int64  \n",
      " 3   vel        42808812 non-null  float64\n",
      " 4   OBU        42808812 non-null  int64  \n",
      "dtypes: float64(2), int64(2), object(1)\n",
      "memory usage: 1.9+ GB\n"
     ]
    }
   ],
   "source": [
    "df_bel = pd.concat([bel_5, bel_15, bxl_5], axis=0)\n",
    "df_bel.info(null_counts= True)"
   ]
  },
  {
   "cell_type": "code",
   "execution_count": 33,
   "metadata": {
    "execution": {
     "iopub.execute_input": "2021-10-11T15:34:50.010122Z",
     "iopub.status.busy": "2021-10-11T15:34:50.009432Z",
     "iopub.status.idle": "2021-10-11T15:34:51.336731Z",
     "shell.execute_reply": "2021-10-11T15:34:51.335777Z",
     "shell.execute_reply.started": "2021-10-11T13:37:05.538515Z"
    },
    "papermill": {
     "duration": 1.374036,
     "end_time": "2021-10-11T15:34:51.336900",
     "exception": false,
     "start_time": "2021-10-11T15:34:49.962864",
     "status": "completed"
    },
    "tags": []
   },
   "outputs": [],
   "source": [
    "df_bxl['datetime'] = pd.to_datetime(df_bxl['datetime'])\n",
    "bxl_5['datetime'] = pd.to_datetime(bxl_5['datetime'])"
   ]
  },
  {
   "cell_type": "code",
   "execution_count": 34,
   "metadata": {
    "execution": {
     "iopub.execute_input": "2021-10-11T15:34:51.438682Z",
     "iopub.status.busy": "2021-10-11T15:34:51.437088Z",
     "iopub.status.idle": "2021-10-11T15:34:51.690629Z",
     "shell.execute_reply": "2021-10-11T15:34:51.690113Z",
     "shell.execute_reply.started": "2021-10-11T13:37:07.955045Z"
    },
    "papermill": {
     "duration": 0.305509,
     "end_time": "2021-10-11T15:34:51.690768",
     "exception": false,
     "start_time": "2021-10-11T15:34:51.385259",
     "status": "completed"
    },
    "tags": []
   },
   "outputs": [
    {
     "data": {
      "text/html": [
       "<div>\n",
       "<style scoped>\n",
       "    .dataframe tbody tr th:only-of-type {\n",
       "        vertical-align: middle;\n",
       "    }\n",
       "\n",
       "    .dataframe tbody tr th {\n",
       "        vertical-align: top;\n",
       "    }\n",
       "\n",
       "    .dataframe thead th {\n",
       "        text-align: right;\n",
       "    }\n",
       "</style>\n",
       "<table border=\"1\" class=\"dataframe\">\n",
       "  <thead>\n",
       "    <tr style=\"text-align: right;\">\n",
       "      <th></th>\n",
       "      <th>street_id</th>\n",
       "      <th>count</th>\n",
       "      <th>vel</th>\n",
       "      <th>OBU</th>\n",
       "    </tr>\n",
       "    <tr>\n",
       "      <th>datetime</th>\n",
       "      <th></th>\n",
       "      <th></th>\n",
       "      <th></th>\n",
       "      <th></th>\n",
       "    </tr>\n",
       "  </thead>\n",
       "  <tbody>\n",
       "    <tr>\n",
       "      <th>2021-05-28 13:50:00</th>\n",
       "      <td>2741.0</td>\n",
       "      <td>1</td>\n",
       "      <td>0.000000</td>\n",
       "      <td>5</td>\n",
       "    </tr>\n",
       "    <tr>\n",
       "      <th>2021-05-04 11:50:00</th>\n",
       "      <td>415.0</td>\n",
       "      <td>2</td>\n",
       "      <td>26.500000</td>\n",
       "      <td>5</td>\n",
       "    </tr>\n",
       "    <tr>\n",
       "      <th>2021-05-21 07:30:00</th>\n",
       "      <td>2954.0</td>\n",
       "      <td>7</td>\n",
       "      <td>27.285714</td>\n",
       "      <td>5</td>\n",
       "    </tr>\n",
       "    <tr>\n",
       "      <th>2021-05-21 09:45:00</th>\n",
       "      <td>1315.0</td>\n",
       "      <td>1</td>\n",
       "      <td>46.000000</td>\n",
       "      <td>5</td>\n",
       "    </tr>\n",
       "    <tr>\n",
       "      <th>2021-04-18 04:25:00</th>\n",
       "      <td>8.0</td>\n",
       "      <td>1</td>\n",
       "      <td>46.000000</td>\n",
       "      <td>5</td>\n",
       "    </tr>\n",
       "  </tbody>\n",
       "</table>\n",
       "</div>"
      ],
      "text/plain": [
       "                     street_id  count        vel  OBU\n",
       "datetime                                             \n",
       "2021-05-28 13:50:00     2741.0      1   0.000000    5\n",
       "2021-05-04 11:50:00      415.0      2  26.500000    5\n",
       "2021-05-21 07:30:00     2954.0      7  27.285714    5\n",
       "2021-05-21 09:45:00     1315.0      1  46.000000    5\n",
       "2021-04-18 04:25:00        8.0      1  46.000000    5"
      ]
     },
     "execution_count": 34,
     "metadata": {},
     "output_type": "execute_result"
    }
   ],
   "source": [
    "df_bxl = df_bxl.set_index('datetime')\n",
    "bxl_5 = bxl_5.set_index('datetime')\n",
    "df_bxl.head()"
   ]
  },
  {
   "cell_type": "code",
   "execution_count": 35,
   "metadata": {
    "execution": {
     "iopub.execute_input": "2021-10-11T15:34:51.784519Z",
     "iopub.status.busy": "2021-10-11T15:34:51.783371Z",
     "iopub.status.idle": "2021-10-11T15:34:53.855014Z",
     "shell.execute_reply": "2021-10-11T15:34:53.854444Z",
     "shell.execute_reply.started": "2021-10-11T13:37:08.221377Z"
    },
    "papermill": {
     "duration": 2.121986,
     "end_time": "2021-10-11T15:34:53.855154",
     "exception": false,
     "start_time": "2021-10-11T15:34:51.733168",
     "status": "completed"
    },
    "tags": []
   },
   "outputs": [
    {
     "data": {
      "text/html": [
       "<div>\n",
       "<style scoped>\n",
       "    .dataframe tbody tr th:only-of-type {\n",
       "        vertical-align: middle;\n",
       "    }\n",
       "\n",
       "    .dataframe tbody tr th {\n",
       "        vertical-align: top;\n",
       "    }\n",
       "\n",
       "    .dataframe thead th {\n",
       "        text-align: right;\n",
       "    }\n",
       "</style>\n",
       "<table border=\"1\" class=\"dataframe\">\n",
       "  <thead>\n",
       "    <tr style=\"text-align: right;\">\n",
       "      <th></th>\n",
       "      <th>street_id</th>\n",
       "      <th>count</th>\n",
       "      <th>vel</th>\n",
       "      <th>OBU</th>\n",
       "    </tr>\n",
       "    <tr>\n",
       "      <th>datetime</th>\n",
       "      <th></th>\n",
       "      <th></th>\n",
       "      <th></th>\n",
       "      <th></th>\n",
       "    </tr>\n",
       "  </thead>\n",
       "  <tbody>\n",
       "    <tr>\n",
       "      <th>2021-03-13 11:30:00</th>\n",
       "      <td>4463.0</td>\n",
       "      <td>1</td>\n",
       "      <td>34.0</td>\n",
       "      <td>30</td>\n",
       "    </tr>\n",
       "    <tr>\n",
       "      <th>2021-03-13 11:30:00</th>\n",
       "      <td>3630.0</td>\n",
       "      <td>1</td>\n",
       "      <td>29.0</td>\n",
       "      <td>30</td>\n",
       "    </tr>\n",
       "    <tr>\n",
       "      <th>2021-03-13 11:30:00</th>\n",
       "      <td>3630.0</td>\n",
       "      <td>1</td>\n",
       "      <td>29.0</td>\n",
       "      <td>15</td>\n",
       "    </tr>\n",
       "    <tr>\n",
       "      <th>2021-03-13 11:30:00</th>\n",
       "      <td>2989.0</td>\n",
       "      <td>1</td>\n",
       "      <td>45.0</td>\n",
       "      <td>15</td>\n",
       "    </tr>\n",
       "    <tr>\n",
       "      <th>2021-03-13 11:30:00</th>\n",
       "      <td>183.0</td>\n",
       "      <td>1</td>\n",
       "      <td>0.0</td>\n",
       "      <td>30</td>\n",
       "    </tr>\n",
       "    <tr>\n",
       "      <th>...</th>\n",
       "      <td>...</td>\n",
       "      <td>...</td>\n",
       "      <td>...</td>\n",
       "      <td>...</td>\n",
       "    </tr>\n",
       "    <tr>\n",
       "      <th>2021-06-05 23:55:00</th>\n",
       "      <td>3352.0</td>\n",
       "      <td>1</td>\n",
       "      <td>21.5</td>\n",
       "      <td>5</td>\n",
       "    </tr>\n",
       "    <tr>\n",
       "      <th>2021-06-05 23:55:00</th>\n",
       "      <td>73.0</td>\n",
       "      <td>1</td>\n",
       "      <td>21.5</td>\n",
       "      <td>5</td>\n",
       "    </tr>\n",
       "    <tr>\n",
       "      <th>2021-06-05 23:55:00</th>\n",
       "      <td>2161.0</td>\n",
       "      <td>1</td>\n",
       "      <td>0.0</td>\n",
       "      <td>5</td>\n",
       "    </tr>\n",
       "    <tr>\n",
       "      <th>2021-06-05 23:55:00</th>\n",
       "      <td>1173.0</td>\n",
       "      <td>1</td>\n",
       "      <td>57.0</td>\n",
       "      <td>5</td>\n",
       "    </tr>\n",
       "    <tr>\n",
       "      <th>2021-06-05 23:55:00</th>\n",
       "      <td>1171.0</td>\n",
       "      <td>1</td>\n",
       "      <td>57.0</td>\n",
       "      <td>5</td>\n",
       "    </tr>\n",
       "  </tbody>\n",
       "</table>\n",
       "<p>5303354 rows × 4 columns</p>\n",
       "</div>"
      ],
      "text/plain": [
       "                     street_id  count   vel  OBU\n",
       "datetime                                        \n",
       "2021-03-13 11:30:00     4463.0      1  34.0   30\n",
       "2021-03-13 11:30:00     3630.0      1  29.0   30\n",
       "2021-03-13 11:30:00     3630.0      1  29.0   15\n",
       "2021-03-13 11:30:00     2989.0      1  45.0   15\n",
       "2021-03-13 11:30:00      183.0      1   0.0   30\n",
       "...                        ...    ...   ...  ...\n",
       "2021-06-05 23:55:00     3352.0      1  21.5    5\n",
       "2021-06-05 23:55:00       73.0      1  21.5    5\n",
       "2021-06-05 23:55:00     2161.0      1   0.0    5\n",
       "2021-06-05 23:55:00     1173.0      1  57.0    5\n",
       "2021-06-05 23:55:00     1171.0      1  57.0    5\n",
       "\n",
       "[5303354 rows x 4 columns]"
      ]
     },
     "execution_count": 35,
     "metadata": {},
     "output_type": "execute_result"
    }
   ],
   "source": [
    "df_bxl = df_bxl.sort_index()\n",
    "bxl_5 = bxl_5.sort_index()\n",
    "\n",
    "df_bxl"
   ]
  },
  {
   "cell_type": "code",
   "execution_count": 36,
   "metadata": {
    "execution": {
     "iopub.execute_input": "2021-10-11T15:34:53.947227Z",
     "iopub.status.busy": "2021-10-11T15:34:53.946478Z",
     "iopub.status.idle": "2021-10-11T15:34:55.568779Z",
     "shell.execute_reply": "2021-10-11T15:34:55.569199Z",
     "shell.execute_reply.started": "2021-10-11T13:37:10.242767Z"
    },
    "papermill": {
     "duration": 1.671265,
     "end_time": "2021-10-11T15:34:55.569384",
     "exception": false,
     "start_time": "2021-10-11T15:34:53.898119",
     "status": "completed"
    },
    "tags": []
   },
   "outputs": [
    {
     "name": "stdout",
     "output_type": "stream",
     "text": [
      "           street_id     count       vel       OBU\n",
      "street_id   1.000000  0.032172  0.073738 -0.006735\n",
      "count       0.032172  1.000000  0.159628  0.157964\n",
      "vel         0.073738  0.159628  1.000000 -0.046640\n",
      "OBU        -0.006735  0.157964 -0.046640  1.000000\n"
     ]
    },
    {
     "data": {
      "image/png": "[encoded data removed]",
      "text/plain": [
       "<Figure size 432x288 with 2 Axes>"
      ]
     },
     "metadata": {
      "needs_background": "light"
     },
     "output_type": "display_data"
    }
   ],
   "source": [
    "import seaborn as sb\n",
    "import matplotlib.pyplot as plt\n",
    "\n",
    "\n",
    "print(df_bxl.corr())\n",
    "dataplot = sb.heatmap(df_bxl.corr(), cmap=\"YlGnBu\", annot=True)\n",
    "plt.show()"
   ]
  },
  {
   "cell_type": "markdown",
   "metadata": {
    "papermill": {
     "duration": 0.044618,
     "end_time": "2021-10-11T15:34:55.661750",
     "exception": false,
     "start_time": "2021-10-11T15:34:55.617132",
     "status": "completed"
    },
    "tags": []
   },
   "source": [
    "****Univariate time series analysis"
   ]
  },
  {
   "cell_type": "markdown",
   "metadata": {
    "papermill": {
     "duration": 0.047588,
     "end_time": "2021-10-11T15:34:55.755511",
     "exception": false,
     "start_time": "2021-10-11T15:34:55.707923",
     "status": "completed"
    },
    "tags": []
   },
   "source": [
    "Simple Exponential Smoothing (SES)"
   ]
  },
  {
   "cell_type": "code",
   "execution_count": 37,
   "metadata": {
    "execution": {
     "iopub.execute_input": "2021-10-11T15:34:55.853021Z",
     "iopub.status.busy": "2021-10-11T15:34:55.851460Z",
     "iopub.status.idle": "2021-10-11T15:34:56.022110Z",
     "shell.execute_reply": "2021-10-11T15:34:56.021576Z",
     "shell.execute_reply.started": "2021-10-11T13:41:20.361290Z"
    },
    "papermill": {
     "duration": 0.221334,
     "end_time": "2021-10-11T15:34:56.022260",
     "exception": false,
     "start_time": "2021-10-11T15:34:55.800926",
     "status": "completed"
    },
    "tags": []
   },
   "outputs": [],
   "source": [
    "bxl_data = df_bxl.drop(['street_id', 'vel', 'OBU'], axis = 1)\n",
    "bxl5_data = bxl_5.drop(['street_id', 'vel', 'OBU'], axis = 1)"
   ]
  },
  {
   "cell_type": "code",
   "execution_count": null,
   "metadata": {
    "execution": {
     "iopub.execute_input": "2021-10-11T15:26:23.021434Z",
     "iopub.status.busy": "2021-10-11T15:26:23.021137Z",
     "iopub.status.idle": "2021-10-11T15:26:23.043624Z",
     "shell.execute_reply": "2021-10-11T15:26:23.042693Z",
     "shell.execute_reply.started": "2021-10-11T15:26:23.021404Z"
    },
    "papermill": {
     "duration": 0.045177,
     "end_time": "2021-10-11T15:34:56.111534",
     "exception": false,
     "start_time": "2021-10-11T15:34:56.066357",
     "status": "completed"
    },
    "tags": []
   },
   "outputs": [],
   "source": []
  },
  {
   "cell_type": "code",
   "execution_count": null,
   "metadata": {
    "papermill": {
     "duration": 0.045022,
     "end_time": "2021-10-11T15:34:56.200826",
     "exception": false,
     "start_time": "2021-10-11T15:34:56.155804",
     "status": "completed"
    },
    "tags": []
   },
   "outputs": [],
   "source": []
  },
  {
   "cell_type": "code",
   "execution_count": 38,
   "metadata": {
    "execution": {
     "iopub.execute_input": "2021-10-11T15:34:56.298986Z",
     "iopub.status.busy": "2021-10-11T15:34:56.297786Z",
     "iopub.status.idle": "2021-10-11T15:34:56.467034Z",
     "shell.execute_reply": "2021-10-11T15:34:56.466149Z",
     "shell.execute_reply.started": "2021-10-11T13:42:48.066332Z"
    },
    "papermill": {
     "duration": 0.222818,
     "end_time": "2021-10-11T15:34:56.467222",
     "exception": false,
     "start_time": "2021-10-11T15:34:56.244404",
     "status": "completed"
    },
    "tags": []
   },
   "outputs": [
    {
     "name": "stdout",
     "output_type": "stream",
     "text": [
      "3298278 days of training data \n",
      " 2005076 days of testing data \n",
      "1326810 days of training data \n",
      " 829696 days of testing data \n"
     ]
    }
   ],
   "source": [
    "split_date = '5/10/2021'\n",
    "bxl_train = bxl_data.loc[bxl_data.index <= split_date]\n",
    "bxl_test = bxl_data.loc[bxl_data.index > split_date]\n",
    "bxl5_train = bxl5_data.loc[bxl5_data.index <= split_date]\n",
    "bxl5_test = bxl5_data.loc[bxl5_data.index > split_date]\n",
    "\n",
    "print(f\"{len(bxl_train)} days of training data \\n {len(bxl_test)} days of testing data \")\n",
    "print(f\"{len(bxl5_train)} days of training data \\n {len(bxl5_test)} days of testing data \")"
   ]
  },
  {
   "cell_type": "code",
   "execution_count": 39,
   "metadata": {
    "execution": {
     "iopub.execute_input": "2021-10-11T15:34:56.564196Z",
     "iopub.status.busy": "2021-10-11T15:34:56.563194Z",
     "iopub.status.idle": "2021-10-11T15:34:56.631418Z",
     "shell.execute_reply": "2021-10-11T15:34:56.632003Z",
     "shell.execute_reply.started": "2021-10-11T14:18:52.156323Z"
    },
    "papermill": {
     "duration": 0.119443,
     "end_time": "2021-10-11T15:34:56.632175",
     "exception": false,
     "start_time": "2021-10-11T15:34:56.512732",
     "status": "completed"
    },
    "tags": []
   },
   "outputs": [
    {
     "name": "stderr",
     "output_type": "stream",
     "text": [
      "/opt/conda/lib/python3.7/site-packages/statsmodels/tsa/base/tsa_model.py:583: ValueWarning: A date index has been provided, but it has no associated frequency information and so will be ignored when e.g. forecasting.\n",
      "  ' ignored when e.g. forecasting.', ValueWarning)\n",
      "/opt/conda/lib/python3.7/site-packages/statsmodels/tsa/base/tsa_model.py:583: ValueWarning: A date index has been provided, but it has no associated frequency information and so will be ignored when e.g. forecasting.\n",
      "  ' ignored when e.g. forecasting.', ValueWarning)\n",
      "/opt/conda/lib/python3.7/site-packages/statsmodels/tsa/base/tsa_model.py:583: ValueWarning: A date index has been provided, but it has no associated frequency information and so will be ignored when e.g. forecasting.\n",
      "  ' ignored when e.g. forecasting.', ValueWarning)\n"
     ]
    }
   ],
   "source": [
    "arima = ARIMA(bxl5_train, order=(1,1,1))"
   ]
  },
  {
   "cell_type": "code",
   "execution_count": null,
   "metadata": {
    "papermill": {
     "duration": 0.04418,
     "end_time": "2021-10-11T15:34:56.721074",
     "exception": false,
     "start_time": "2021-10-11T15:34:56.676894",
     "status": "completed"
    },
    "tags": []
   },
   "outputs": [],
   "source": []
  },
  {
   "cell_type": "code",
   "execution_count": null,
   "metadata": {
    "papermill": {
     "duration": 0.045339,
     "end_time": "2021-10-11T15:34:56.810789",
     "exception": false,
     "start_time": "2021-10-11T15:34:56.765450",
     "status": "completed"
    },
    "tags": []
   },
   "outputs": [],
   "source": []
  },
  {
   "cell_type": "code",
   "execution_count": null,
   "metadata": {
    "papermill": {
     "duration": 0.04417,
     "end_time": "2021-10-11T15:34:56.901886",
     "exception": false,
     "start_time": "2021-10-11T15:34:56.857716",
     "status": "completed"
    },
    "tags": []
   },
   "outputs": [],
   "source": []
  },
  {
   "cell_type": "code",
   "execution_count": null,
   "metadata": {
    "execution": {
     "iopub.execute_input": "2021-10-11T14:32:26.546272Z",
     "iopub.status.busy": "2021-10-11T14:32:26.545758Z",
     "iopub.status.idle": "2021-10-11T14:32:50.761699Z",
     "shell.execute_reply": "2021-10-11T14:32:50.761004Z",
     "shell.execute_reply.started": "2021-10-11T14:32:26.546238Z"
    },
    "papermill": {
     "duration": 0.044183,
     "end_time": "2021-10-11T15:34:56.990414",
     "exception": false,
     "start_time": "2021-10-11T15:34:56.946231",
     "status": "completed"
    },
    "tags": []
   },
   "outputs": [],
   "source": []
  },
  {
   "cell_type": "code",
   "execution_count": null,
   "metadata": {
    "execution": {
     "iopub.execute_input": "2021-10-11T15:12:14.590946Z",
     "iopub.status.busy": "2021-10-11T15:12:14.590618Z",
     "iopub.status.idle": "2021-10-11T15:12:14.623568Z",
     "shell.execute_reply": "2021-10-11T15:12:14.622658Z",
     "shell.execute_reply.started": "2021-10-11T15:12:14.590914Z"
    },
    "papermill": {
     "duration": 0.04615,
     "end_time": "2021-10-11T15:34:57.081324",
     "exception": false,
     "start_time": "2021-10-11T15:34:57.035174",
     "status": "completed"
    },
    "tags": []
   },
   "outputs": [],
   "source": []
  },
  {
   "cell_type": "code",
   "execution_count": null,
   "metadata": {
    "papermill": {
     "duration": 0.04446,
     "end_time": "2021-10-11T15:34:57.171658",
     "exception": false,
     "start_time": "2021-10-11T15:34:57.127198",
     "status": "completed"
    },
    "tags": []
   },
   "outputs": [],
   "source": []
  },
  {
   "cell_type": "code",
   "execution_count": null,
   "metadata": {
    "papermill": {
     "duration": 0.044177,
     "end_time": "2021-10-11T15:34:57.260562",
     "exception": false,
     "start_time": "2021-10-11T15:34:57.216385",
     "status": "completed"
    },
    "tags": []
   },
   "outputs": [],
   "source": []
  },
  {
   "cell_type": "code",
   "execution_count": null,
   "metadata": {
    "papermill": {
     "duration": 0.044769,
     "end_time": "2021-10-11T15:34:57.349896",
     "exception": false,
     "start_time": "2021-10-11T15:34:57.305127",
     "status": "completed"
    },
    "tags": []
   },
   "outputs": [],
   "source": []
  },
  {
   "cell_type": "code",
   "execution_count": null,
   "metadata": {
    "papermill": {
     "duration": 0.044861,
     "end_time": "2021-10-11T15:34:57.440178",
     "exception": false,
     "start_time": "2021-10-11T15:34:57.395317",
     "status": "completed"
    },
    "tags": []
   },
   "outputs": [],
   "source": []
  },
  {
   "cell_type": "code",
   "execution_count": null,
   "metadata": {
    "papermill": {
     "duration": 0.044528,
     "end_time": "2021-10-11T15:34:57.531857",
     "exception": false,
     "start_time": "2021-10-11T15:34:57.487329",
     "status": "completed"
    },
    "tags": []
   },
   "outputs": [],
   "source": []
  },
  {
   "cell_type": "code",
   "execution_count": null,
   "metadata": {
    "papermill": {
     "duration": 0.04438,
     "end_time": "2021-10-11T15:34:57.620913",
     "exception": false,
     "start_time": "2021-10-11T15:34:57.576533",
     "status": "completed"
    },
    "tags": []
   },
   "outputs": [],
   "source": []
  },
  {
   "cell_type": "code",
   "execution_count": null,
   "metadata": {
    "papermill": {
     "duration": 0.044467,
     "end_time": "2021-10-11T15:34:57.711940",
     "exception": false,
     "start_time": "2021-10-11T15:34:57.667473",
     "status": "completed"
    },
    "tags": []
   },
   "outputs": [],
   "source": []
  },
  {
   "cell_type": "code",
   "execution_count": null,
   "metadata": {
    "papermill": {
     "duration": 0.044324,
     "end_time": "2021-10-11T15:34:57.800711",
     "exception": false,
     "start_time": "2021-10-11T15:34:57.756387",
     "status": "completed"
    },
    "tags": []
   },
   "outputs": [],
   "source": []
  },
  {
   "cell_type": "code",
   "execution_count": null,
   "metadata": {
    "papermill": {
     "duration": 0.046458,
     "end_time": "2021-10-11T15:34:57.893679",
     "exception": false,
     "start_time": "2021-10-11T15:34:57.847221",
     "status": "completed"
    },
    "tags": []
   },
   "outputs": [],
   "source": []
  },
  {
   "cell_type": "code",
   "execution_count": null,
   "metadata": {
    "papermill": {
     "duration": 0.044038,
     "end_time": "2021-10-11T15:34:57.982225",
     "exception": false,
     "start_time": "2021-10-11T15:34:57.938187",
     "status": "completed"
    },
    "tags": []
   },
   "outputs": [],
   "source": []
  },
  {
   "cell_type": "code",
   "execution_count": null,
   "metadata": {
    "papermill": {
     "duration": 0.044736,
     "end_time": "2021-10-11T15:34:58.071634",
     "exception": false,
     "start_time": "2021-10-11T15:34:58.026898",
     "status": "completed"
    },
    "tags": []
   },
   "outputs": [],
   "source": []
  }
 ],
 "metadata": {
  "kernelspec": {
   "display_name": "Python 3",
   "language": "python",
   "name": "python3"
  },
  "language_info": {
   "codemirror_mode": {
    "name": "ipython",
    "version": 3
   },
   "file_extension": ".py",
   "mimetype": "text/x-python",
   "name": "python",
   "nbconvert_exporter": "python",
   "pygments_lexer": "ipython3",
   "version": "3.8.6rc1"
  },
  "papermill": {
   "default_parameters": {},
   "duration": 108.729123,
   "end_time": "2021-10-11T15:34:59.631492",
   "environment_variables": {},
   "exception": null,
   "input_path": "__notebook__.ipynb",
   "output_path": "__notebook__.ipynb",
   "parameters": {},
   "start_time": "2021-10-11T15:33:10.902369",
   "version": "2.3.3"
  }
 },
 "nbformat": 4,
 "nbformat_minor": 5
}
